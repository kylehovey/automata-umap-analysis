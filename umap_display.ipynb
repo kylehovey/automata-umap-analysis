{
 "cells": [
  {
   "cell_type": "code",
   "execution_count": null,
   "metadata": {},
   "outputs": [
    {
     "name": "stdout",
     "output_type": "stream",
     "text": [
      "Loading Rule Data...\n",
      "Rule data loaded with shape (262144, 256)\n",
      "Embedding into two dimensions using umap...\n"
     ]
    }
   ],
   "source": [
    "import numpy as np\n",
    "import umap\n",
    "import umap.plot\n",
    "\n",
    "if __name__ == \"__main__\":\n",
    "    print(\"Loading Rule Data...\")\n",
    "    data = np.load('rule_data.npz')\n",
    "    diffs = np.load('rule_diff.npz')\n",
    "    target = np.load('target.npz')\n",
    "    print(\"Rule data loaded with shape {}\".format(data.shape))\n",
    "\n",
    "    print(\"Embedding into two dimensions using umap...\")\n",
    "    embedding = umap.UMAP().fit(data)\n",
    "    print(\"Embedding complete.\")\n",
    "\n",
    "    print(\"Plotting results...\")\n",
    "    average_diffs = diffs.mean(axis=1)\n",
    "    hover_data = pd.DataFrame({\n",
    "        'index': np.arange(data.shape[0]),\n",
    "        'number': target,\n",
    "        'average_diff': average_diffs,\n",
    "    })\n",
    "\n",
    "    interactive_plot = umap.plot.interactive(\n",
    "        embedding,\n",
    "        values=average_diffs,\n",
    "        hover_data=hover_data,\n",
    "        theme='viridis',\n",
    "    )\n",
    "\n",
    "    umap.plot.show(interactive_plot)"
   ]
  },
  {
   "cell_type": "code",
   "execution_count": null,
   "metadata": {},
   "outputs": [],
   "source": []
  }
 ],
 "metadata": {
  "kernelspec": {
   "display_name": "Python 3",
   "language": "python",
   "name": "python3"
  },
  "language_info": {
   "codemirror_mode": {
    "name": "ipython",
    "version": 3
   },
   "file_extension": ".py",
   "mimetype": "text/x-python",
   "name": "python",
   "nbconvert_exporter": "python",
   "pygments_lexer": "ipython3",
   "version": "3.7.6"
  }
 },
 "nbformat": 4,
 "nbformat_minor": 4
}
