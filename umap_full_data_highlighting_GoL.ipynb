{
 "cells": [
  {
   "cell_type": "code",
   "execution_count": 15,
   "metadata": {},
   "outputs": [
    {
     "name": "stdout",
     "output_type": "stream",
     "text": [
      "Loading Rule Data...\n",
      "Rule data loaded with shape (262144, 256)\n",
      "Embedding into two dimensions using umap...\n",
      "Embedding complete.\n"
     ]
    }
   ],
   "source": [
    "import numpy as np\n",
    "import pandas as pd\n",
    "import umap\n",
    "import umap.plot\n",
    "\n",
    "if __name__ == \"__main__\":\n",
    "    print(\"Loading Rule Data...\")\n",
    "    data = np.load('rule_data.npz')\n",
    "    diffs = np.load('rule_diff.npz')\n",
    "    target = np.load('target.npz')\n",
    "    print(\"Rule data loaded with shape {}\".format(data.shape))\n",
    "\n",
    "    print(\"Embedding into two dimensions using umap...\")\n",
    "    embedding = umap.UMAP().fit(data)\n",
    "    print(\"Embedding complete.\")\n",
    "\n",
    "    average_diffs = diffs.mean(axis=1)\n",
    "    hover_data = pd.DataFrame({\n",
    "        'index': np.arange(data.shape[0]),\n",
    "        'number': target,\n",
    "        'average_diff': average_diffs,\n",
    "    })"
   ]
  },
  {
   "cell_type": "code",
   "execution_count": 25,
   "metadata": {},
   "outputs": [
    {
     "name": "stdout",
     "output_type": "stream",
     "text": [
      "(262144, 2)\n"
     ]
    }
   ],
   "source": [
    "with open('all_.npy', 'wb') as f:\n",
    "    print(embedding.embedding_)"
   ]
  },
  {
   "cell_type": "code",
   "execution_count": 14,
   "metadata": {},
   "outputs": [
    {
     "data": {
      "text/plain": [
       "<matplotlib.axes._subplots.AxesSubplot at 0x1b1b9dd510>"
      ]
     },
     "execution_count": 14,
     "metadata": {},
     "output_type": "execute_result"
    },
    {
     "data": {
      "image/png": "[encoded data removed]",
      "text/plain": [
       "<Figure size 1000x1000 with 1 Axes>"
      ]
     },
     "metadata": {},
     "output_type": "display_data"
    }
   ],
   "source": [
    "from math import log\n",
    "\n",
    "def mapper(t):\n",
    "    if t == 6152:\n",
    "        return 1000\n",
    "    else:\n",
    "        return 1\n",
    "\n",
    "abs_distance_from_gol = np.array([abs(diff - 3.2392156862745094)**2 for diff in average_diffs])\n",
    "abs_distance_from_target = np.array([1000/(abs(t - 6152) + 1) for t in target])\n",
    "filtered_to_gol = np.array([mapper(t) for t in target])\n",
    "\n",
    "umap.plot.points(\n",
    "     embedding,\n",
    "     values=filtered_to_gol,\n",
    "     theme='fire',\n",
    "     width=1000,\n",
    "     height=1000,\n",
    ")"
   ]
  },
  {
   "cell_type": "code",
   "execution_count": 1,
   "metadata": {},
   "outputs": [
    {
     "ename": "NameError",
     "evalue": "name 'umap' is not defined",
     "output_type": "error",
     "traceback": [
      "\u001b[0;31m---------------------------------------------------------------------------\u001b[0m",
      "\u001b[0;31mNameError\u001b[0m                                 Traceback (most recent call last)",
      "\u001b[0;32m<ipython-input-1-353778f6cf30>\u001b[0m in \u001b[0;36m<module>\u001b[0;34m\u001b[0m\n\u001b[0;32m----> 1\u001b[0;31m umap.plot.diagnostic(\n\u001b[0m\u001b[1;32m      2\u001b[0m      \u001b[0membedding\u001b[0m\u001b[0;34m,\u001b[0m\u001b[0;34m\u001b[0m\u001b[0;34m\u001b[0m\u001b[0m\n\u001b[1;32m      3\u001b[0m      \u001b[0mdiagnostic_type\u001b[0m\u001b[0;34m=\u001b[0m\u001b[0;34m'vq'\u001b[0m\u001b[0;34m,\u001b[0m\u001b[0;34m\u001b[0m\u001b[0;34m\u001b[0m\u001b[0m\n\u001b[1;32m      4\u001b[0m )\n",
      "\u001b[0;31mNameError\u001b[0m: name 'umap' is not defined"
     ]
    }
   ],
   "source": [
    "umap.plot.diagnostic(\n",
    "     embedding,\n",
    "     diagnostic_type='vq',\n",
    ")"
   ]
  },
  {
   "cell_type": "code",
   "execution_count": null,
   "metadata": {},
   "outputs": [],
   "source": []
  }
 ],
 "metadata": {
  "kernelspec": {
   "display_name": "Python 3",
   "language": "python",
   "name": "python3"
  },
  "language_info": {
   "codemirror_mode": {
    "name": "ipython",
    "version": 3
   },
   "file_extension": ".py",
   "mimetype": "text/x-python",
   "name": "python",
   "nbconvert_exporter": "python",
   "pygments_lexer": "ipython3",
   "version": "3.7.6"
  }
 },
 "nbformat": 4,
 "nbformat_minor": 4
}
